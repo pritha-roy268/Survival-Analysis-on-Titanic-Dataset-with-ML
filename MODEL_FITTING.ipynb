﻿{
 "cells": [
  {
   "cell_type": "code",
   "execution_count": 120,
   "metadata": {},
   "outputs": [],
   "source": [
    "import numpy as np\n",
    "import pandas as pd\n",
    "import seaborn as sbn\n",
    "import matplotlib.pyplot as plt"
   ]
  },
  {
   "cell_type": "code",
   "execution_count": 121,
   "metadata": {},
   "outputs": [],
   "source": [
    "df = pd.read_csv("train.csv")"
   ]
  },
  {
   "cell_type": "code",
   "execution_count": 122,
   "metadata": {},
   "outputs": [
    {
     "data": {
      "text/html": [
       "<div>\n",
       "<style scoped>\n",
       "    .dataframe tbody tr th:only-of-type {\n",
       "        vertical-align: middle;\n",
       "    }\n",
       "\n",
       "    .dataframe tbody tr th {\n",
       "        vertical-align: top;\n",
       "    }\n",
       "\n",
       "    .dataframe thead th {\n",
       "        text-align: right;\n",
       "    }\n",
       "</style>\n",
       "<table border=\"1\" class=\"dataframe\">\n",
       "  <thead>\n",
       "    <tr style=\"text-align: right;\">\n",
       "      <th></th>\n",
       "      <th>PassengerId</th>\n",
       "      <th>Survived</th>\n",
       "      <th>Pclass</th>\n",
       "      <th>Name</th>\n",
       "      <th>Sex</th>\n",
       "      <th>Age</th>\n",
       "      <th>SibSp</th>\n",
       "      <th>Parch</th>\n",
       "      <th>Ticket</th>\n",
       "      <th>Fare</th>\n",
       "      <th>Cabin</th>\n",
       "      <th>Embarked</th>\n",
       "    </tr>\n",
       "  </thead>\n",
       "  <tbody>\n",
       "    <tr>\n",
       "      <th>0</th>\n",
       "      <td>1</td>\n",
       "      <td>0</td>\n",
       "      <td>3</td>\n",
       "      <td>Braund, Mr. Owen Harris</td>\n",
       "      <td>male</td>\n",
       "      <td>22.0</td>\n",
       "      <td>1</td>\n",
       "      <td>0</td>\n",
       "      <td>A/5 21171</td>\n",
       "      <td>7.2500</td>\n",
       "      <td>NaN</td>\n",
       "      <td>S</td>\n",
       "    </tr>\n",
       "    <tr>\n",
       "      <th>1</th>\n",
       "      <td>2</td>\n",
       "      <td>1</td>\n",
       "      <td>1</td>\n",
       "      <td>Cumings, Mrs. John Bradley (Florence Briggs Th...</td>\n",
       "      <td>female</td>\n",
       "      <td>38.0</td>\n",
       "      <td>1</td>\n",
       "      <td>0</td>\n",
       "      <td>PC 17599</td>\n",
       "      <td>71.2833</td>\n",
       "      <td>C85</td>\n",
       "      <td>C</td>\n",
       "    </tr>\n",
       "    <tr>\n",
       "      <th>2</th>\n",
       "      <td>3</td>\n",
       "      <td>1</td>\n",
       "      <td>3</td>\n",
       "      <td>Heikkinen, Miss. Laina</td>\n",
       "      <td>female</td>\n",
       "      <td>26.0</td>\n",
       "      <td>0</td>\n",
       "      <td>0</td>\n",
       "      <td>STON/O2. 3101282</td>\n",
       "      <td>7.9250</td>\n",
       "      <td>NaN</td>\n",
       "      <td>S</td>\n",
       "    </tr>\n",
       "    <tr>\n",
       "      <th>3</th>\n",
       "      <td>4</td>\n",
       "      <td>1</td>\n",
       "      <td>1</td>\n",
       "      <td>Futrelle, Mrs. Jacques Heath (Lily May Peel)</td>\n",
       "      <td>female</td>\n",
       "      <td>35.0</td>\n",
       "      <td>1</td>\n",
       "      <td>0</td>\n",
       "      <td>113803</td>\n",
       "      <td>53.1000</td>\n",
       "      <td>C123</td>\n",
       "      <td>S</td>\n",
       "    </tr>\n",
       "    <tr>\n",
       "      <th>4</th>\n",
       "      <td>5</td>\n",
       "      <td>0</td>\n",
       "      <td>3</td>\n",
       "      <td>Allen, Mr. William Henry</td>\n",
       "      <td>male</td>\n",
       "      <td>35.0</td>\n",
       "      <td>0</td>\n",
       "      <td>0</td>\n",
       "      <td>373450</td>\n",
       "      <td>8.0500</td>\n",
       "      <td>NaN</td>\n",
       "      <td>S</td>\n",
       "    </tr>\n",
       "  </tbody>\n",
       "</table>\n",
       "</div>"
      ],
      "text/plain": [
       "   PassengerId  Survived  Pclass  \\\n",
       "0            1         0       3   \n",
       "1            2         1       1   \n",
       "2            3         1       3   \n",
       "3            4         1       1   \n",
       "4            5         0       3   \n",
       "\n",
       "                                                Name     Sex   Age  SibSp  \\\n",
       "0                            Braund, Mr. Owen Harris    male  22.0      1   \n",
       "1  Cumings, Mrs. John Bradley (Florence Briggs Th...  female  38.0      1   \n",
       "2                             Heikkinen, Miss. Laina  female  26.0      0   \n",
       "3       Futrelle, Mrs. Jacques Heath (Lily May Peel)  female  35.0      1   \n",
       "4                           Allen, Mr. William Henry    male  35.0      0   \n",
       "\n",
       "   Parch            Ticket     Fare Cabin Embarked  \n",
       "0      0         A/5 21171   7.2500   NaN        S  \n",
       "1      0          PC 17599  71.2833   C85        C  \n",
       "2      0  STON/O2. 3101282   7.9250   NaN        S  \n",
       "3      0            113803  53.1000  C123        S  \n",
       "4      0            373450   8.0500   NaN        S  "
      ]
     },
     "execution_count": 122,
     "metadata": {},
     "output_type": "execute_result"
    }
   ],
   "source": [
    "df.head()"
   ]
  },
  {
   "cell_type": "code",
   "execution_count": 123,
   "metadata": {},
   "outputs": [
    {
     "data": {
      "text/plain": [
       "(891, 12)"
      ]
     },
     "execution_count": 123,
     "metadata": {},
     "output_type": "execute_result"
    }
   ],
   "source": [
    "df.shape"
   ]
  },
  {
   "cell_type": "code",
   "execution_count": 124,
   "metadata": {},
   "outputs": [
    {
     "name": "stdout",
     "output_type": "stream",
     "text": [
      "(1,      PassengerId  Survived  Pclass  \\\n",
      "1              2         1       1   \n",
      "3              4         1       1   \n",
      "6              7         0       1   \n",
      "11            12         1       1   \n",
      "23            24         1       1   \n",
      "..           ...       ...     ...   \n",
      "871          872         1       1   \n",
      "872          873         0       1   \n",
      "879          880         1       1   \n",
      "887          888         1       1   \n",
      "889          890         1       1   \n",
      "\n",
      "                                                  Name     Sex   Age  SibSp  \\\n",
      "1    Cumings, Mrs. John Bradley (Florence Briggs Th...  female  38.0      1   \n",
      "3         Futrelle, Mrs. Jacques Heath (Lily May Peel)  female  35.0      1   \n",
      "6                              McCarthy, Mr. Timothy J    male  54.0      0   \n",
      "11                            Bonnell, Miss. Elizabeth  female  58.0      0   \n",
      "23                        Sloper, Mr. William Thompson    male  28.0      0   \n",
      "..                                                 ...     ...   ...    ...   \n",
      "871   Beckwith, Mrs. Richard Leonard (Sallie Monypeny)  female  47.0      1   \n",
      "872                           Carlsson, Mr. Frans Olof    male  33.0      0   \n",
      "879      Potter, Mrs. Thomas Jr (Lily Alexenia Wilson)  female  56.0      0   \n",
      "887                       Graham, Miss. Margaret Edith  female  19.0      0   \n",
      "889                              Behr, Mr. Karl Howell    male  26.0      0   \n",
      "\n",
      "     Parch    Ticket     Fare        Cabin Embarked  \n",
      "1        0  PC 17599  71.2833          C85        C  \n",
      "3        0    113803  53.1000         C123        S  \n",
      "6        0     17463  51.8625          E46        S  \n",
      "11       0    113783  26.5500         C103        S  \n",
      "23       0    113788  35.5000           A6        S  \n",
      "..     ...       ...      ...          ...      ...  \n",
      "871      1     11751  52.5542          D35        S  \n",
      "872      0       695   5.0000  B51 B53 B55        S  \n",
      "879      1     11767  83.1583          C50        C  \n",
      "887      0    112053  30.0000          B42        S  \n",
      "889      0    111369  30.0000         C148        C  \n",
      "\n",
      "[216 rows x 12 columns])\n",
      "(2,      PassengerId  Survived  Pclass  \\\n",
      "9             10         1       2   \n",
      "15            16         1       2   \n",
      "17            18         1       2   \n",
      "20            21         0       2   \n",
      "21            22         1       2   \n",
      "..           ...       ...     ...   \n",
      "866          867         1       2   \n",
      "874          875         1       2   \n",
      "880          881         1       2   \n",
      "883          884         0       2   \n",
      "886          887         0       2   \n",
      "\n",
      "                                             Name     Sex   Age  SibSp  Parch  \\\n",
      "9             Nasser, Mrs. Nicholas (Adele Achem)  female  14.0      1      0   \n",
      "15               Hewlett, Mrs. (Mary D Kingcome)   female  55.0      0      0   \n",
      "17                   Williams, Mr. Charles Eugene    male   NaN      0      0   \n",
      "20                           Fynney, Mr. Joseph J    male  35.0      0      0   \n",
      "21                          Beesley, Mr. Lawrence    male  34.0      0      0   \n",
      "..                                            ...     ...   ...    ...    ...   \n",
      "866                  Duran y More, Miss. Asuncion  female  27.0      1      0   \n",
      "874         Abelson, Mrs. Samuel (Hannah Wizosky)  female  28.0      1      0   \n",
      "880  Shelley, Mrs. William (Imanita Parrish Hall)  female  25.0      0      1   \n",
      "883                 Banfield, Mr. Frederick James    male  28.0      0      0   \n",
      "886                         Montvila, Rev. Juozas    male  27.0      0      0   \n",
      "\n",
      "               Ticket     Fare Cabin Embarked  \n",
      "9              237736  30.0708   NaN        C  \n",
      "15             248706  16.0000   NaN        S  \n",
      "17             244373  13.0000   NaN        S  \n",
      "20             239865  26.0000   NaN        S  \n",
      "21             248698  13.0000   D56        S  \n",
      "..                ...      ...   ...      ...  \n",
      "866     SC/PARIS 2149  13.8583   NaN        C  \n",
      "874         P/PP 3381  24.0000   NaN        C  \n",
      "880            230433  26.0000   NaN        S  \n",
      "883  C.A./SOTON 34068  10.5000   NaN        S  \n",
      "886            211536  13.0000   NaN        S  \n",
      "\n",
      "[184 rows x 12 columns])\n",
      "(3,      PassengerId  Survived  Pclass                                      Name  \\\n",
      "0              1         0       3                   Braund, Mr. Owen Harris   \n",
      "2              3         1       3                    Heikkinen, Miss. Laina   \n",
      "4              5         0       3                  Allen, Mr. William Henry   \n",
      "5              6         0       3                          Moran, Mr. James   \n",
      "7              8         0       3            Palsson, Master. Gosta Leonard   \n",
      "..           ...       ...     ...                                       ...   \n",
      "882          883         0       3              Dahlberg, Miss. Gerda Ulrika   \n",
      "884          885         0       3                    Sutehall, Mr. Henry Jr   \n",
      "885          886         0       3      Rice, Mrs. William (Margaret Norton)   \n",
      "888          889         0       3  Johnston, Miss. Catherine Helen \"Carrie\"   \n",
      "890          891         0       3                       Dooley, Mr. Patrick   \n",
      "\n",
      "        Sex   Age  SibSp  Parch            Ticket     Fare Cabin Embarked  \n",
      "0      male  22.0      1      0         A/5 21171   7.2500   NaN        S  \n",
      "2    female  26.0      0      0  STON/O2. 3101282   7.9250   NaN        S  \n",
      "4      male  35.0      0      0            373450   8.0500   NaN        S  \n",
      "5      male   NaN      0      0            330877   8.4583   NaN        Q  \n",
      "7      male   2.0      3      1            349909  21.0750   NaN        S  \n",
      "..      ...   ...    ...    ...               ...      ...   ...      ...  \n",
      "882  female  22.0      0      0              7552  10.5167   NaN        S  \n",
      "884    male  25.0      0      0   SOTON/OQ 392076   7.0500   NaN        S  \n",
      "885  female  39.0      0      5            382652  29.1250   NaN        Q  \n",
      "888  female   NaN      1      2        W./C. 6607  23.4500   NaN        S  \n",
      "890    male  32.0      0      0            370376   7.7500   NaN        Q  \n",
      "\n",
      "[491 rows x 12 columns])\n"
     ]
    }
   ],
   "source": [
    "for i in df.groupby('Pclass'):\n",
    " print(i)"
   ]
  },
  {
   "cell_type": "code",
   "execution_count": 125,
   "metadata": {},
   "outputs": [
    {
     "data": {
      "text/html": [
       "<div>\n",
       "<style scoped>\n",
       "    .dataframe tbody tr th:only-of-type {\n",
       "        vertical-align: middle;\n",
       "    }\n",
       "\n",
       "    .dataframe tbody tr th {\n",
       "        vertical-align: top;\n",
       "    }\n",
       "\n",
       "    .dataframe thead th {\n",
       "        text-align: right;\n",
       "    }\n",
       "</style>\n",
       "<table border=\"1\" class=\"dataframe\">\n",
       "  <thead>\n",
       "    <tr style=\"text-align: right;\">\n",
       "      <th></th>\n",
       "      <th>PassengerId</th>\n",
       "      <th>Survived</th>\n",
       "      <th>Age</th>\n",
       "      <th>SibSp</th>\n",
       "      <th>Parch</th>\n",
       "      <th>Fare</th>\n",
       "    </tr>\n",
       "    <tr>\n",
       "      <th>Pclass</th>\n",
       "      <th></th>\n",
       "      <th></th>\n",
       "      <th></th>\n",
       "      <th></th>\n",
       "      <th></th>\n",
       "      <th></th>\n",
       "    </tr>\n",
       "  </thead>\n",
       "  <tbody>\n",
       "    <tr>\n",
       "      <th>1</th>\n",
       "      <td>461.597222</td>\n",
       "      <td>0.629630</td>\n",
       "      <td>38.233441</td>\n",
       "      <td>0.416667</td>\n",
       "      <td>0.356481</td>\n",
       "      <td>84.154687</td>\n",
       "    </tr>\n",
       "    <tr>\n",
       "      <th>2</th>\n",
       "      <td>445.956522</td>\n",
       "      <td>0.472826</td>\n",
       "      <td>29.877630</td>\n",
       "      <td>0.402174</td>\n",
       "      <td>0.380435</td>\n",
       "      <td>20.662183</td>\n",
       "    </tr>\n",
       "    <tr>\n",
       "      <th>3</th>\n",
       "      <td>439.154786</td>\n",
       "      <td>0.242363</td>\n",
       "      <td>25.140620</td>\n",
       "      <td>0.615071</td>\n",
       "      <td>0.393075</td>\n",
       "      <td>13.675550</td>\n",
       "    </tr>\n",
       "  </tbody>\n",
       "</table>\n",
       "</div>"
      ],
      "text/plain": [
       "        PassengerId  Survived        Age     SibSp     Parch       Fare\n",
       "Pclass                                                                 \n",
       "1        461.597222  0.629630  38.233441  0.416667  0.356481  84.154687\n",
       "2        445.956522  0.472826  29.877630  0.402174  0.380435  20.662183\n",
       "3        439.154786  0.242363  25.140620  0.615071  0.393075  13.675550"
      ]
     },
     "execution_count": 125,
     "metadata": {},
     "output_type": "execute_result"
    }
   ],
   "source": [
    "df.groupby('Pclass').mean()"
   ]
  },
  {
   "cell_type": "code",
   "execution_count": 126,
   "metadata": {},
   "outputs": [
    {
     "data": {
      "text/plain": [
       "0    549\n",
       "1    342\n",
       "Name: Survived, dtype: int64"
      ]
     },
     "execution_count": 126,
     "metadata": {},
     "output_type": "execute_result"
    }
   ],
   "source": [
    "df.Survived.value_counts()"
   ]
  },
  {
   "cell_type": "code",
   "execution_count": 127,
   "metadata": {},
   "outputs": [],
   "source": [
    "df = df.drop(columns=['Name', 'PassengerId', 'Cabin', 'Ticket'])"
   ]
  },
  {
   "cell_type": "code",
   "execution_count": 128,
   "metadata": {},
   "outputs": [
    {
     "data": {
      "text/html": [
       "<div>\n",
       "<style scoped>\n",
       "    .dataframe tbody tr th:only-of-type {\n",
       "        vertical-align: middle;\n",
       "    }\n",
       "\n",
       "    .dataframe tbody tr th {\n",
       "        vertical-align: top;\n",
       "    }\n",
       "\n",
       "    .dataframe thead th {\n",
       "        text-align: right;\n",
       "    }\n",
       "</style>\n",
       "<table border=\"1\" class=\"dataframe\">\n",
       "  <thead>\n",
       "    <tr style=\"text-align: right;\">\n",
       "      <th></th>\n",
       "      <th>Survived</th>\n",
       "      <th>Pclass</th>\n",
       "      <th>Sex</th>\n",
       "      <th>Age</th>\n",
       "      <th>SibSp</th>\n",
       "      <th>Parch</th>\n",
       "      <th>Fare</th>\n",
       "      <th>Embarked</th>\n",
       "    </tr>\n",
       "  </thead>\n",
       "  <tbody>\n",
       "    <tr>\n",
       "      <th>0</th>\n",
       "      <td>0</td>\n",
       "      <td>3</td>\n",
       "      <td>male</td>\n",
       "      <td>22.0</td>\n",
       "      <td>1</td>\n",
       "      <td>0</td>\n",
       "      <td>7.2500</td>\n",
       "      <td>S</td>\n",
       "    </tr>\n",
       "    <tr>\n",
       "      <th>1</th>\n",
       "      <td>1</td>\n",
       "      <td>1</td>\n",
       "      <td>female</td>\n",
       "      <td>38.0</td>\n",
       "      <td>1</td>\n",
       "      <td>0</td>\n",
       "      <td>71.2833</td>\n",
       "      <td>C</td>\n",
       "    </tr>\n",
       "    <tr>\n",
       "      <th>2</th>\n",
       "      <td>1</td>\n",
       "      <td>3</td>\n",
       "      <td>female</td>\n",
       "      <td>26.0</td>\n",
       "      <td>0</td>\n",
       "      <td>0</td>\n",
       "      <td>7.9250</td>\n",
       "      <td>S</td>\n",
       "    </tr>\n",
       "    <tr>\n",
       "      <th>3</th>\n",
       "      <td>1</td>\n",
       "      <td>1</td>\n",
       "      <td>female</td>\n",
       "      <td>35.0</td>\n",
       "      <td>1</td>\n",
       "      <td>0</td>\n",
       "      <td>53.1000</td>\n",
       "      <td>S</td>\n",
       "    </tr>\n",
       "    <tr>\n",
       "      <th>4</th>\n",
       "      <td>0</td>\n",
       "      <td>3</td>\n",
       "      <td>male</td>\n",
       "      <td>35.0</td>\n",
       "      <td>0</td>\n",
       "      <td>0</td>\n",
       "      <td>8.0500</td>\n",
       "      <td>S</td>\n",
       "    </tr>\n",
       "    <tr>\n",
       "      <th>...</th>\n",
       "      <td>...</td>\n",
       "      <td>...</td>\n",
       "      <td>...</td>\n",
       "      <td>...</td>\n",
       "      <td>...</td>\n",
       "      <td>...</td>\n",
       "      <td>...</td>\n",
       "      <td>...</td>\n",
       "    </tr>\n",
       "    <tr>\n",
       "      <th>886</th>\n",
       "      <td>0</td>\n",
       "      <td>2</td>\n",
       "      <td>male</td>\n",
       "      <td>27.0</td>\n",
       "      <td>0</td>\n",
       "      <td>0</td>\n",
       "      <td>13.0000</td>\n",
       "      <td>S</td>\n",
       "    </tr>\n",
       "    <tr>\n",
       "      <th>887</th>\n",
       "      <td>1</td>\n",
       "      <td>1</td>\n",
       "      <td>female</td>\n",
       "      <td>19.0</td>\n",
       "      <td>0</td>\n",
       "      <td>0</td>\n",
       "      <td>30.0000</td>\n",
       "      <td>S</td>\n",
       "    </tr>\n",
       "    <tr>\n",
       "      <th>888</th>\n",
       "      <td>0</td>\n",
       "      <td>3</td>\n",
       "      <td>female</td>\n",
       "      <td>NaN</td>\n",
       "      <td>1</td>\n",
       "      <td>2</td>\n",
       "      <td>23.4500</td>\n",
       "      <td>S</td>\n",
       "    </tr>\n",
       "    <tr>\n",
       "      <th>889</th>\n",
       "      <td>1</td>\n",
       "      <td>1</td>\n",
       "      <td>male</td>\n",
       "      <td>26.0</td>\n",
       "      <td>0</td>\n",
       "      <td>0</td>\n",
       "      <td>30.0000</td>\n",
       "      <td>C</td>\n",
       "    </tr>\n",
       "    <tr>\n",
       "      <th>890</th>\n",
       "      <td>0</td>\n",
       "      <td>3</td>\n",
       "      <td>male</td>\n",
       "      <td>32.0</td>\n",
       "      <td>0</td>\n",
       "      <td>0</td>\n",
       "      <td>7.7500</td>\n",
       "      <td>Q</td>\n",
       "    </tr>\n",
       "  </tbody>\n",
       "</table>\n",
       "<p>891 rows × 8 columns</p>\n",
       "</div>"
      ],
      "text/plain": [
       "     Survived  Pclass     Sex   Age  SibSp  Parch     Fare Embarked\n",
       "0           0       3    male  22.0      1      0   7.2500        S\n",
       "1           1       1  female  38.0      1      0  71.2833        C\n",
       "2           1       3  female  26.0      0      0   7.9250        S\n",
       "3           1       1  female  35.0      1      0  53.1000        S\n",
       "4           0       3    male  35.0      0      0   8.0500        S\n",
       "..        ...     ...     ...   ...    ...    ...      ...      ...\n",
       "886         0       2    male  27.0      0      0  13.0000        S\n",
       "887         1       1  female  19.0      0      0  30.0000        S\n",
       "888         0       3  female   NaN      1      2  23.4500        S\n",
       "889         1       1    male  26.0      0      0  30.0000        C\n",
       "890         0       3    male  32.0      0      0   7.7500        Q\n",
       "\n",
       "[891 rows x 8 columns]"
      ]
     },
     "execution_count": 128,
     "metadata": {},
     "output_type": "execute_result"
    }
   ],
   "source": [
    "df"
   ]
  },
  {
   "cell_type": "code",
   "execution_count": 129,
   "metadata": {},
   "outputs": [
    {
     "data": {
      "text/plain": [
       "Index(['Survived', 'Pclass', 'Sex', 'Age', 'SibSp', 'Parch', 'Fare',\n",
       "       'Embarked'],\n",
       "      dtype='object')"
      ]
     },
     "execution_count": 129,
     "metadata": {},
     "output_type": "execute_result"
    }
   ],
   "source": [
    "df.columns"
   ]
  },
  {
   "cell_type": "code",
   "execution_count": 130,
   "metadata": {},
   "outputs": [],
   "source": [
    "df.fillna({'Age':df.Age.median(),\n",
    " 'Embarked':'S'},inplace=True)"
   ]
  },
  {
   "cell_type": "code",
   "execution_count": 131,
   "metadata": {},
   "outputs": [
    {
     "data": {
      "text/html": [
       "<div>\n",
       "<style scoped>\n",
       "    .dataframe tbody tr th:only-of-type {\n",
       "        vertical-align: middle;\n",
       "    }\n",
       "\n",
       "    .dataframe tbody tr th {\n",
       "        vertical-align: top;\n",
       "    }\n",
       "\n",
       "    .dataframe thead th {\n",
       "        text-align: right;\n",
       "    }\n",
       "</style>\n",
       "<table border=\"1\" class=\"dataframe\">\n",
       "  <thead>\n",
       "    <tr style=\"text-align: right;\">\n",
       "      <th></th>\n",
       "      <th>Survived</th>\n",
       "      <th>Pclass</th>\n",
       "      <th>Sex</th>\n",
       "      <th>Age</th>\n",
       "      <th>SibSp</th>\n",
       "      <th>Parch</th>\n",
       "      <th>Fare</th>\n",
       "      <th>Embarked</th>\n",
       "    </tr>\n",
       "  </thead>\n",
       "  <tbody>\n",
       "    <tr>\n",
       "      <th>0</th>\n",
       "      <td>0</td>\n",
       "      <td>3</td>\n",
       "      <td>male</td>\n",
       "      <td>22.0</td>\n",
       "      <td>1</td>\n",
       "      <td>0</td>\n",
       "      <td>7.2500</td>\n",
       "      <td>S</td>\n",
       "    </tr>\n",
       "    <tr>\n",
       "      <th>1</th>\n",
       "      <td>1</td>\n",
       "      <td>1</td>\n",
       "      <td>female</td>\n",
       "      <td>38.0</td>\n",
       "      <td>1</td>\n",
       "      <td>0</td>\n",
       "      <td>71.2833</td>\n",
       "      <td>C</td>\n",
       "    </tr>\n",
       "    <tr>\n",
       "      <th>2</th>\n",
       "      <td>1</td>\n",
       "      <td>3</td>\n",
       "      <td>female</td>\n",
       "      <td>26.0</td>\n",
       "      <td>0</td>\n",
       "      <td>0</td>\n",
       "      <td>7.9250</td>\n",
       "      <td>S</td>\n",
       "    </tr>\n",
       "    <tr>\n",
       "      <th>3</th>\n",
       "      <td>1</td>\n",
       "      <td>1</td>\n",
       "      <td>female</td>\n",
       "      <td>35.0</td>\n",
       "      <td>1</td>\n",
       "      <td>0</td>\n",
       "      <td>53.1000</td>\n",
       "      <td>S</td>\n",
       "    </tr>\n",
       "    <tr>\n",
       "      <th>4</th>\n",
       "      <td>0</td>\n",
       "      <td>3</td>\n",
       "      <td>male</td>\n",
       "      <td>35.0</td>\n",
       "      <td>0</td>\n",
       "      <td>0</td>\n",
       "      <td>8.0500</td>\n",
       "      <td>S</td>\n",
       "    </tr>\n",
       "    <tr>\n",
       "      <th>...</th>\n",
       "      <td>...</td>\n",
       "      <td>...</td>\n",
       "      <td>...</td>\n",
       "      <td>...</td>\n",
       "      <td>...</td>\n",
       "      <td>...</td>\n",
       "      <td>...</td>\n",
       "      <td>...</td>\n",
       "    </tr>\n",
       "    <tr>\n",
       "      <th>886</th>\n",
       "      <td>0</td>\n",
       "      <td>2</td>\n",
       "      <td>male</td>\n",
       "      <td>27.0</td>\n",
       "      <td>0</td>\n",
       "      <td>0</td>\n",
       "      <td>13.0000</td>\n",
       "      <td>S</td>\n",
       "    </tr>\n",
       "    <tr>\n",
       "      <th>887</th>\n",
       "      <td>1</td>\n",
       "      <td>1</td>\n",
       "      <td>female</td>\n",
       "      <td>19.0</td>\n",
       "      <td>0</td>\n",
       "      <td>0</td>\n",
       "      <td>30.0000</td>\n",
       "      <td>S</td>\n",
       "    </tr>\n",
       "    <tr>\n",
       "      <th>888</th>\n",
       "      <td>0</td>\n",
       "      <td>3</td>\n",
       "      <td>female</td>\n",
       "      <td>28.0</td>\n",
       "      <td>1</td>\n",
       "      <td>2</td>\n",
       "      <td>23.4500</td>\n",
       "      <td>S</td>\n",
       "    </tr>\n",
       "    <tr>\n",
       "      <th>889</th>\n",
       "      <td>1</td>\n",
       "      <td>1</td>\n",
       "      <td>male</td>\n",
       "      <td>26.0</td>\n",
       "      <td>0</td>\n",
       "      <td>0</td>\n",
       "      <td>30.0000</td>\n",
       "      <td>C</td>\n",
       "    </tr>\n",
       "    <tr>\n",
       "      <th>890</th>\n",
       "      <td>0</td>\n",
       "      <td>3</td>\n",
       "      <td>male</td>\n",
       "      <td>32.0</td>\n",
       "      <td>0</td>\n",
       "      <td>0</td>\n",
       "      <td>7.7500</td>\n",
       "      <td>Q</td>\n",
       "    </tr>\n",
       "  </tbody>\n",
       "</table>\n",
       "<p>891 rows × 8 columns</p>\n",
       "</div>"
      ],
      "text/plain": [
       "     Survived  Pclass     Sex   Age  SibSp  Parch     Fare Embarked\n",
       "0           0       3    male  22.0      1      0   7.2500        S\n",
       "1           1       1  female  38.0      1      0  71.2833        C\n",
       "2           1       3  female  26.0      0      0   7.9250        S\n",
       "3           1       1  female  35.0      1      0  53.1000        S\n",
       "4           0       3    male  35.0      0      0   8.0500        S\n",
       "..        ...     ...     ...   ...    ...    ...      ...      ...\n",
       "886         0       2    male  27.0      0      0  13.0000        S\n",
       "887         1       1  female  19.0      0      0  30.0000        S\n",
       "888         0       3  female  28.0      1      2  23.4500        S\n",
       "889         1       1    male  26.0      0      0  30.0000        C\n",
       "890         0       3    male  32.0      0      0   7.7500        Q\n",
       "\n",
       "[891 rows x 8 columns]"
      ]
     },
     "execution_count": 131,
     "metadata": {},
     "output_type": "execute_result"
    }
   ],
   "source": [
    "df"
   ]
  },
  {
   "cell_type": "code",
   "execution_count": 132,
   "metadata": {},
   "outputs": [
    {
     "data": {
      "text/plain": [
       "Survived    0\n",
       "Pclass      0\n",
       "Sex         0\n",
       "Age         0\n",
       "SibSp       0\n",
       "Parch       0\n",
       "Fare        0\n",
       "Embarked    0\n",
       "dtype: int64"
      ]
     },
     "execution_count": 132,
     "metadata": {},
     "output_type": "execute_result"
    }
   ],
   "source": [
    "df.isnull().sum()"
   ]
  },
  {
   "cell_type": "code",
   "execution_count": 133,
   "metadata": {},
   "outputs": [
    {
     "name": "stderr",
     "output_type": "stream",
     "text": [
      "C:\\Users\\olive\\anaconda3\\lib\\site-packages\\ipykernel_launcher.py:1: SettingWithCopyWarning: \n",
      "A value is trying to be set on a copy of a slice from a DataFrame\n",
      "\n",
      "See the caveats in the documentation: https://pandas.pydata.org/pandas-docs/stable/user_guide/indexing.html#returning-a-view-versus-a-copy\n",
      "  \"\"\"Entry point for launching an IPython kernel.\n",
      "C:\\Users\\olive\\anaconda3\\lib\\site-packages\\ipykernel_launcher.py:2: SettingWithCopyWarning: \n",
      "A value is trying to be set on a copy of a slice from a DataFrame\n",
      "\n",
      "See the caveats in the documentation: https://pandas.pydata.org/pandas-docs/stable/user_guide/indexing.html#returning-a-view-versus-a-copy\n",
      "  \n"
     ]
    }
   ],
   "source": [
    "df.Sex[df.Sex == 'male'] = 1\n",
    "df.Sex[df.Sex == 'female'] = 0"
   ]
  },
  {
   "cell_type": "code",
   "execution_count": 134,
   "metadata": {},
   "outputs": [
    {
     "name": "stderr",
     "output_type": "stream",
     "text": [
      "C:\\Users\\olive\\anaconda3\\lib\\site-packages\\ipykernel_launcher.py:1: SettingWithCopyWarning: \n",
      "A value is trying to be set on a copy of a slice from a DataFrame\n",
      "\n",
      "See the caveats in the documentation: https://pandas.pydata.org/pandas-docs/stable/user_guide/indexing.html#returning-a-view-versus-a-copy\n",
      "  \"\"\"Entry point for launching an IPython kernel.\n",
      "C:\\Users\\olive\\anaconda3\\lib\\site-packages\\ipykernel_launcher.py:2: SettingWithCopyWarning: \n",
      "A value is trying to be set on a copy of a slice from a DataFrame\n",
      "\n",
      "See the caveats in the documentation: https://pandas.pydata.org/pandas-docs/stable/user_guide/indexing.html#returning-a-view-versus-a-copy\n",
      "  \n",
      "C:\\Users\\olive\\anaconda3\\lib\\site-packages\\ipykernel_launcher.py:3: SettingWithCopyWarning: \n",
      "A value is trying to be set on a copy of a slice from a DataFrame\n",
      "\n",
      "See the caveats in the documentation: https://pandas.pydata.org/pandas-docs/stable/user_guide/indexing.html#returning-a-view-versus-a-copy\n",
      "  This is separate from the ipykernel package so we can avoid doing imports until\n"
     ]
    }
   ],
   "source": [
    "df.Embarked[df.Embarked == 'C'] = 0\n",
    "df.Embarked[df.Embarked == 'S'] = 1\n",
    "df.Embarked[df.Embarked == 'Q'] = 2"
   ]
  },
  {
   "cell_type": "code",
   "execution_count": 135,
   "metadata": {},
   "outputs": [
    {
     "data": {
      "text/html": [
       "<div>\n",
       "<style scoped>\n",
       "    .dataframe tbody tr th:only-of-type {\n",
       "        vertical-align: middle;\n",
       "    }\n",
       "\n",
       "    .dataframe tbody tr th {\n",
       "        vertical-align: top;\n",
       "    }\n",
       "\n",
       "    .dataframe thead th {\n",
       "        text-align: right;\n",
       "    }\n",
       "</style>\n",
       "<table border=\"1\" class=\"dataframe\">\n",
       "  <thead>\n",
       "    <tr style=\"text-align: right;\">\n",
       "      <th></th>\n",
       "      <th>Survived</th>\n",
       "      <th>Pclass</th>\n",
       "      <th>Sex</th>\n",
       "      <th>Age</th>\n",
       "      <th>SibSp</th>\n",
       "      <th>Parch</th>\n",
       "      <th>Fare</th>\n",
       "      <th>Embarked</th>\n",
       "    </tr>\n",
       "  </thead>\n",
       "  <tbody>\n",
       "    <tr>\n",
       "      <th>0</th>\n",
       "      <td>0</td>\n",
       "      <td>3</td>\n",
       "      <td>1</td>\n",
       "      <td>22.0</td>\n",
       "      <td>1</td>\n",
       "      <td>0</td>\n",
       "      <td>7.2500</td>\n",
       "      <td>1</td>\n",
       "    </tr>\n",
       "    <tr>\n",
       "      <th>1</th>\n",
       "      <td>1</td>\n",
       "      <td>1</td>\n",
       "      <td>0</td>\n",
       "      <td>38.0</td>\n",
       "      <td>1</td>\n",
       "      <td>0</td>\n",
       "      <td>71.2833</td>\n",
       "      <td>0</td>\n",
       "    </tr>\n",
       "    <tr>\n",
       "      <th>2</th>\n",
       "      <td>1</td>\n",
       "      <td>3</td>\n",
       "      <td>0</td>\n",
       "      <td>26.0</td>\n",
       "      <td>0</td>\n",
       "      <td>0</td>\n",
       "      <td>7.9250</td>\n",
       "      <td>1</td>\n",
       "    </tr>\n",
       "    <tr>\n",
       "      <th>3</th>\n",
       "      <td>1</td>\n",
       "      <td>1</td>\n",
       "      <td>0</td>\n",
       "      <td>35.0</td>\n",
       "      <td>1</td>\n",
       "      <td>0</td>\n",
       "      <td>53.1000</td>\n",
       "      <td>1</td>\n",
       "    </tr>\n",
       "    <tr>\n",
       "      <th>4</th>\n",
       "      <td>0</td>\n",
       "      <td>3</td>\n",
       "      <td>1</td>\n",
       "      <td>35.0</td>\n",
       "      <td>0</td>\n",
       "      <td>0</td>\n",
       "      <td>8.0500</td>\n",
       "      <td>1</td>\n",
       "    </tr>\n",
       "  </tbody>\n",
       "</table>\n",
       "</div>"
      ],
      "text/plain": [
       "   Survived  Pclass Sex   Age  SibSp  Parch     Fare Embarked\n",
       "0         0       3   1  22.0      1      0   7.2500        1\n",
       "1         1       1   0  38.0      1      0  71.2833        0\n",
       "2         1       3   0  26.0      0      0   7.9250        1\n",
       "3         1       1   0  35.0      1      0  53.1000        1\n",
       "4         0       3   1  35.0      0      0   8.0500        1"
      ]
     },
     "execution_count": 135,
     "metadata": {},
     "output_type": "execute_result"
    }
   ],
   "source": [
    "df.head()"
   ]
  },
  {
   "cell_type": "code",
   "execution_count": 136,
   "metadata": {},
   "outputs": [
    {
     "data": {
      "text/plain": [
       "Text(0, 0.5, 'Survival Probability')"
      ]
     },
     "execution_count": 136,
     "metadata": {},
     "output_type": "execute_result"
    },
    {
     "data": {
      "image/png": "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\n",
      "text/plain": [
       "<Figure size 432x288 with 1 Axes>"
      ]
     },
     "metadata": {},
     "output_type": "display_data"
    }
   ],
   "source": [
    "plt = df[['Embarked', 'Survived']].groupby('Embarked').mean().Survived.plot(kind=\"bar\")\n",
    "plt.set_xlabel('Embarked')\n",
    "plt.set_ylabel('Survival Probability')"
   ]
  },
  {
   "cell_type": "code",
   "execution_count": 137,
   "metadata": {},
   "outputs": [
    {
     "data": {
      "text/plain": [
       "Text(16.200000000000003, 0.5, 'Passenger Count')"
      ]
     },
     "execution_count": 137,
     "metadata": {},
     "output_type": "execute_result"
    },
    {
     "data": {
      "image/png": "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\n",
      "text/plain": [
       "<Figure size 432x288 with 1 Axes>"
      ]
     },
     "metadata": {},
     "output_type": "display_data"
    }
   ],
   "source": [
    "df.Survived.value_counts()\n",
    "plt1 = df.Survived.value_counts().plot(kind='bar',color=('g','r'))\n",
    "plt.set_xlabel('Survived-Yes or No?')\n",
    "plt.set_ylabel('Passenger Count')"
   ]
  },
  {
   "cell_type": "code",
   "execution_count": 186,
   "metadata": {},
   "outputs": [
    {
     "name": "stderr",
     "output_type": "stream",
     "text": [
      "C:\\Users\\olive\\anaconda3\\lib\\site-packages\\seaborn\\categorical.py:3669: UserWarning: The `factorplot` function has been renamed to `catplot`. The original name will be removed in a future release. Please update your code. Note that the default `kind` in `factorplot` (`'point'`) has changed `'strip'` in `catplot`.\n",
      "  warnings.warn(msg)\n"
     ]
    },
    {
     "data": {
      "text/plain": [
       "<seaborn.axisgrid.FacetGrid at 0x1e6414b2e08>"
      ]
     },
     "execution_count": 186,
     "metadata": {},
     "output_type": "execute_result"
    },
    {
     "data": {
      "image/png": "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\n",
      "text/plain": [
       "<Figure size 1080x360 with 3 Axes>"
      ]
     },
     "metadata": {},
     "output_type": "display_data"
    }
   ],
   "source": [
    "sbn.factorplot('Pclass', col = 'Embarked', data = df, kind = 'count')"
   ]
  },
  {
   "cell_type": "code",
   "execution_count": 187,
   "metadata": {},
   "outputs": [
    {
     "data": {
      "text/plain": [
       "<seaborn.axisgrid.FacetGrid at 0x1e642fe2348>"
      ]
     },
     "execution_count": 187,
     "metadata": {},
     "output_type": "execute_result"
    },
    {
     "data": {
      "image/png": "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\n",
      "text/plain": [
       "<Figure size 1080x360 with 3 Axes>"
      ]
     },
     "metadata": {},
     "output_type": "display_data"
    }
   ],
   "source": [
    "sbn.factorplot('Sex', col = 'Pclass', data = df, kind = 'count')"
   ]
  },
  {
   "cell_type": "code",
   "execution_count": 188,
   "metadata": {},
   "outputs": [
    {
     "data": {
      "text/plain": [
       "<seaborn.axisgrid.FacetGrid at 0x1e64341d108>"
      ]
     },
     "execution_count": 188,
     "metadata": {},
     "output_type": "execute_result"
    },
    {
     "data": {
      "image/png": "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\n",
      "text/plain": [
       "<Figure size 1080x360 with 3 Axes>"
      ]
     },
     "metadata": {},
     "output_type": "display_data"
    }
   ],
   "source": [
    "sbn.factorplot('Sex', col = 'Embarked', data = df, kind = 'count')"
   ]
  },
  {
   "cell_type": "code",
   "execution_count": 138,
   "metadata": {},
   "outputs": [],
   "source": [
    "from sklearn.feature_selection import SelectKBest\n",
    "from sklearn.feature_selection import chi2\n",
    "X1 = df.drop(\"Survived\",axis=1)\n",
    "y1 = df[\"Survived\"]\n",
    "fr = SelectKBest(chi2, k=4) \n",
    "fr.fit(X1,y1)\n",
    "i = fr.get_support() \n",
    "X_new = pd.DataFrame(fr.transform(X1), columns = X1.columns.values[i])"
   ]
  },
  {
   "cell_type": "code",
   "execution_count": 139,
   "metadata": {},
   "outputs": [
    {
     "data": {
      "text/html": [
       "<div>\n",
       "<style scoped>\n",
       "    .dataframe tbody tr th:only-of-type {\n",
       "        vertical-align: middle;\n",
       "    }\n",
       "\n",
       "    .dataframe tbody tr th {\n",
       "        vertical-align: top;\n",
       "    }\n",
       "\n",
       "    .dataframe thead th {\n",
       "        text-align: right;\n",
       "    }\n",
       "</style>\n",
       "<table border=\"1\" class=\"dataframe\">\n",
       "  <thead>\n",
       "    <tr style=\"text-align: right;\">\n",
       "      <th></th>\n",
       "      <th>Pclass</th>\n",
       "      <th>Sex</th>\n",
       "      <th>Age</th>\n",
       "      <th>Fare</th>\n",
       "    </tr>\n",
       "  </thead>\n",
       "  <tbody>\n",
       "    <tr>\n",
       "      <th>0</th>\n",
       "      <td>3</td>\n",
       "      <td>1</td>\n",
       "      <td>22</td>\n",
       "      <td>7.25</td>\n",
       "    </tr>\n",
       "    <tr>\n",
       "      <th>1</th>\n",
       "      <td>1</td>\n",
       "      <td>0</td>\n",
       "      <td>38</td>\n",
       "      <td>71.2833</td>\n",
       "    </tr>\n",
       "    <tr>\n",
       "      <th>2</th>\n",
       "      <td>3</td>\n",
       "      <td>0</td>\n",
       "      <td>26</td>\n",
       "      <td>7.925</td>\n",
       "    </tr>\n",
       "    <tr>\n",
       "      <th>3</th>\n",
       "      <td>1</td>\n",
       "      <td>0</td>\n",
       "      <td>35</td>\n",
       "      <td>53.1</td>\n",
       "    </tr>\n",
       "    <tr>\n",
       "      <th>4</th>\n",
       "      <td>3</td>\n",
       "      <td>1</td>\n",
       "      <td>35</td>\n",
       "      <td>8.05</td>\n",
       "    </tr>\n",
       "    <tr>\n",
       "      <th>...</th>\n",
       "      <td>...</td>\n",
       "      <td>...</td>\n",
       "      <td>...</td>\n",
       "      <td>...</td>\n",
       "    </tr>\n",
       "    <tr>\n",
       "      <th>886</th>\n",
       "      <td>2</td>\n",
       "      <td>1</td>\n",
       "      <td>27</td>\n",
       "      <td>13</td>\n",
       "    </tr>\n",
       "    <tr>\n",
       "      <th>887</th>\n",
       "      <td>1</td>\n",
       "      <td>0</td>\n",
       "      <td>19</td>\n",
       "      <td>30</td>\n",
       "    </tr>\n",
       "    <tr>\n",
       "      <th>888</th>\n",
       "      <td>3</td>\n",
       "      <td>0</td>\n",
       "      <td>28</td>\n",
       "      <td>23.45</td>\n",
       "    </tr>\n",
       "    <tr>\n",
       "      <th>889</th>\n",
       "      <td>1</td>\n",
       "      <td>1</td>\n",
       "      <td>26</td>\n",
       "      <td>30</td>\n",
       "    </tr>\n",
       "    <tr>\n",
       "      <th>890</th>\n",
       "      <td>3</td>\n",
       "      <td>1</td>\n",
       "      <td>32</td>\n",
       "      <td>7.75</td>\n",
       "    </tr>\n",
       "  </tbody>\n",
       "</table>\n",
       "<p>891 rows × 4 columns</p>\n",
       "</div>"
      ],
      "text/plain": [
       "    Pclass Sex Age     Fare\n",
       "0        3   1  22     7.25\n",
       "1        1   0  38  71.2833\n",
       "2        3   0  26    7.925\n",
       "3        1   0  35     53.1\n",
       "4        3   1  35     8.05\n",
       "..     ...  ..  ..      ...\n",
       "886      2   1  27       13\n",
       "887      1   0  19       30\n",
       "888      3   0  28    23.45\n",
       "889      1   1  26       30\n",
       "890      3   1  32     7.75\n",
       "\n",
       "[891 rows x 4 columns]"
      ]
     },
     "execution_count": 139,
     "metadata": {},
     "output_type": "execute_result"
    }
   ],
   "source": [
    "X_new"
   ]
  },
  {
   "cell_type": "code",
   "execution_count": 140,
   "metadata": {},
   "outputs": [
    {
     "data": {
      "text/plain": [
       "Index(['Pclass', 'Sex', 'Age', 'Fare'], dtype='object')"
      ]
     },
     "execution_count": 140,
     "metadata": {},
     "output_type": "execute_result"
    }
   ],
   "source": [
    "X_new.columns"
   ]
  },
  {
   "cell_type": "code",
   "execution_count": 141,
   "metadata": {},
   "outputs": [],
   "source": [
    "features = X_new[['Pclass','Sex','Age','Fare']]\n",
    "target = df['Survived']"
   ]
  },
  {
   "cell_type": "code",
   "execution_count": 142,
   "metadata": {},
   "outputs": [],
   "source": [
    "df2 = pd.get_dummies(features[['Sex']])"
   ]
  },
  {
   "cell_type": "code",
   "execution_count": 143,
   "metadata": {},
   "outputs": [],
   "source": [
    "df3 = X_new.drop(columns=['Sex'])"
   ]
  },
  {
   "cell_type": "code",
   "execution_count": 144,
   "metadata": {},
   "outputs": [],
   "source": [
    "final_features = pd.concat((df2,df3),axis=1)"
   ]
  },
  {
   "cell_type": "code",
   "execution_count": 145,
   "metadata": {},
   "outputs": [
    {
     "data": {
      "text/html": [
       "<div>\n",
       "<style scoped>\n",
       "    .dataframe tbody tr th:only-of-type {\n",
       "        vertical-align: middle;\n",
       "    }\n",
       "\n",
       "    .dataframe tbody tr th {\n",
       "        vertical-align: top;\n",
       "    }\n",
       "\n",
       "    .dataframe thead th {\n",
       "        text-align: right;\n",
       "    }\n",
       "</style>\n",
       "<table border=\"1\" class=\"dataframe\">\n",
       "  <thead>\n",
       "    <tr style=\"text-align: right;\">\n",
       "      <th></th>\n",
       "      <th>Sex_0</th>\n",
       "      <th>Sex_1</th>\n",
       "      <th>Pclass</th>\n",
       "      <th>Age</th>\n",
       "      <th>Fare</th>\n",
       "    </tr>\n",
       "  </thead>\n",
       "  <tbody>\n",
       "    <tr>\n",
       "      <th>0</th>\n",
       "      <td>0</td>\n",
       "      <td>1</td>\n",
       "      <td>3</td>\n",
       "      <td>22</td>\n",
       "      <td>7.25</td>\n",
       "    </tr>\n",
       "    <tr>\n",
       "      <th>1</th>\n",
       "      <td>1</td>\n",
       "      <td>0</td>\n",
       "      <td>1</td>\n",
       "      <td>38</td>\n",
       "      <td>71.2833</td>\n",
       "    </tr>\n",
       "    <tr>\n",
       "      <th>2</th>\n",
       "      <td>1</td>\n",
       "      <td>0</td>\n",
       "      <td>3</td>\n",
       "      <td>26</td>\n",
       "      <td>7.925</td>\n",
       "    </tr>\n",
       "    <tr>\n",
       "      <th>3</th>\n",
       "      <td>1</td>\n",
       "      <td>0</td>\n",
       "      <td>1</td>\n",
       "      <td>35</td>\n",
       "      <td>53.1</td>\n",
       "    </tr>\n",
       "    <tr>\n",
       "      <th>4</th>\n",
       "      <td>0</td>\n",
       "      <td>1</td>\n",
       "      <td>3</td>\n",
       "      <td>35</td>\n",
       "      <td>8.05</td>\n",
       "    </tr>\n",
       "    <tr>\n",
       "      <th>...</th>\n",
       "      <td>...</td>\n",
       "      <td>...</td>\n",
       "      <td>...</td>\n",
       "      <td>...</td>\n",
       "      <td>...</td>\n",
       "    </tr>\n",
       "    <tr>\n",
       "      <th>886</th>\n",
       "      <td>0</td>\n",
       "      <td>1</td>\n",
       "      <td>2</td>\n",
       "      <td>27</td>\n",
       "      <td>13</td>\n",
       "    </tr>\n",
       "    <tr>\n",
       "      <th>887</th>\n",
       "      <td>1</td>\n",
       "      <td>0</td>\n",
       "      <td>1</td>\n",
       "      <td>19</td>\n",
       "      <td>30</td>\n",
       "    </tr>\n",
       "    <tr>\n",
       "      <th>888</th>\n",
       "      <td>1</td>\n",
       "      <td>0</td>\n",
       "      <td>3</td>\n",
       "      <td>28</td>\n",
       "      <td>23.45</td>\n",
       "    </tr>\n",
       "    <tr>\n",
       "      <th>889</th>\n",
       "      <td>0</td>\n",
       "      <td>1</td>\n",
       "      <td>1</td>\n",
       "      <td>26</td>\n",
       "      <td>30</td>\n",
       "    </tr>\n",
       "    <tr>\n",
       "      <th>890</th>\n",
       "      <td>0</td>\n",
       "      <td>1</td>\n",
       "      <td>3</td>\n",
       "      <td>32</td>\n",
       "      <td>7.75</td>\n",
       "    </tr>\n",
       "  </tbody>\n",
       "</table>\n",
       "<p>891 rows × 5 columns</p>\n",
       "</div>"
      ],
      "text/plain": [
       "     Sex_0  Sex_1 Pclass Age     Fare\n",
       "0        0      1      3  22     7.25\n",
       "1        1      0      1  38  71.2833\n",
       "2        1      0      3  26    7.925\n",
       "3        1      0      1  35     53.1\n",
       "4        0      1      3  35     8.05\n",
       "..     ...    ...    ...  ..      ...\n",
       "886      0      1      2  27       13\n",
       "887      1      0      1  19       30\n",
       "888      1      0      3  28    23.45\n",
       "889      0      1      1  26       30\n",
       "890      0      1      3  32     7.75\n",
       "\n",
       "[891 rows x 5 columns]"
      ]
     },
     "execution_count": 145,
     "metadata": {},
     "output_type": "execute_result"
    }
   ],
   "source": [
    "final_features"
   ]
  },
  {
   "cell_type": "markdown",
   "metadata": {},
   "source": [
    "# Splitting the data into Training Data and Testing Data"
   ]
  },
  {
   "cell_type": "code",
   "execution_count": 146,
   "metadata": {},
   "outputs": [],
   "source": [
    "X = final_features.values\n",
    "y = df.Survived.values"
   ]
  },
  {
   "cell_type": "code",
   "execution_count": 147,
   "metadata": {},
   "outputs": [],
   "source": [
    "from sklearn.model_selection import train_test_split\n",
    "X_train,X_test,y_train,y_test = train_test_split(features,target,test_size=0.2,random_state=1)\n",
    "from sklearn.preprocessing import MinMaxScaler\n",
    "mms = MinMaxScaler()\n",
    "X_train = mms.fit_transform(X_train)\n",
    "X_test = mms.transform(X_test)"
   ]
  },
  {
   "cell_type": "markdown",
   "metadata": {},
   "source": [
    "# Fitting Logistic Regression Model"
   ]
  },
  {
   "cell_type": "code",
   "execution_count": 148,
   "metadata": {},
   "outputs": [],
   "source": [
    "from sklearn.linear_model import LogisticRegression\n",
    "log = LogisticRegression(C=5,penalty='l2',class_weight=None,random_state=1)\n",
    "log_ = log.fit(X_train,y_train)\n",
    "log_target_prediction = log_.predict(X_test)"
   ]
  },
  {
   "cell_type": "code",
   "execution_count": 149,
   "metadata": {},
   "outputs": [
    {
     "name": "stdout",
     "output_type": "stream",
     "text": [
      "Logistic Regression Score:  0.8100558659217877\n"
     ]
    }
   ],
   "source": [
    "from sklearn.metrics import accuracy_score\n",
    "print(\"Logistic Regression Score: \",accuracy_score(y_test,log_target_prediction))\n",
    "a1 = accuracy_score(y_test,log_target_prediction)"
   ]
  },
  {
   "cell_type": "code",
   "execution_count": 150,
   "metadata": {},
   "outputs": [
    {
     "name": "stdout",
     "output_type": "stream",
     "text": [
      "MSE: 0.18994413407821228\n",
      "R2: 0.21349185836133344\n"
     ]
    }
   ],
   "source": [
    "from sklearn.metrics import mean_squared_error, r2_score\n",
    "print (\"MSE:\",mean_squared_error(y_test,log_target_prediction))\n",
    "print (\"R2:\",r2_score(y_test,log_target_prediction))\n",
    "b1 = mean_squared_error(y_test,log_target_prediction)\n",
    "c1 = r2_score(y_test,log_target_prediction)"
   ]
  },
  {
   "cell_type": "code",
   "execution_count": 151,
   "metadata": {},
   "outputs": [
    {
     "name": "stdout",
     "output_type": "stream",
     "text": [
      "The confusion matrix in case of Logistic Regression:\n",
      "[[90 16]\n",
      " [18 55]]\n"
     ]
    }
   ],
   "source": [
    "from sklearn.metrics import confusion_matrix\n",
    "cm_dt1 = confusion_matrix(y_test, log_target_prediction)\n",
    "print(\"The confusion matrix in case of Logistic Regression:\")\n",
    "print(cm_dt1)"
   ]
  },
  {
   "cell_type": "markdown",
   "metadata": {},
   "source": [
    "# Fitting Decision Tree Classifier"
   ]
  },
  {
   "cell_type": "code",
   "execution_count": 152,
   "metadata": {},
   "outputs": [],
   "source": [
    "from sklearn import tree\n",
    "decision_tree = tree.DecisionTreeClassifier(random_state=0,criterion = 'gini',min_samples_split = 20,max_leaf_nodes=25)\n",
    "decision_tree_ = decision_tree.fit(X_train,y_train)\n",
    "dst_target_prediction = decision_tree_.predict(X_test)"
   ]
  },
  {
   "cell_type": "code",
   "execution_count": 153,
   "metadata": {},
   "outputs": [
    {
     "name": "stdout",
     "output_type": "stream",
     "text": [
      "Decision tree score:  0.8212290502793296\n"
     ]
    }
   ],
   "source": [
    "print(\"Decision tree score: \",accuracy_score(y_test,dst_target_prediction))\n",
    "a3 = accuracy_score(y_test,dst_target_prediction)"
   ]
  },
  {
   "cell_type": "code",
   "execution_count": 154,
   "metadata": {},
   "outputs": [
    {
     "name": "stdout",
     "output_type": "stream",
     "text": [
      "MSE    : 0.1787709497206704\n",
      "R2     : 0.25975704316360804\n"
     ]
    }
   ],
   "source": [
    "print (\"MSE    :\",mean_squared_error(y_test,dst_target_prediction))\n",
    "print (\"R2     :\",r2_score(y_test,dst_target_prediction))\n",
    "b3 = mean_squared_error(y_test,dst_target_prediction)\n",
    "c3 = r2_score(y_test,dst_target_prediction)"
   ]
  },
  {
   "cell_type": "code",
   "execution_count": 155,
   "metadata": {},
   "outputs": [
    {
     "name": "stdout",
     "output_type": "stream",
     "text": [
      "The confusion matrix in case of Decision tree:\n",
      "[[99  7]\n",
      " [25 48]]\n"
     ]
    }
   ],
   "source": [
    "cm_dt3 = confusion_matrix(y_test, dst_target_prediction)\n",
    "print(\"The confusion matrix in case of Decision tree:\")\n",
    "print(cm_dt3)"
   ]
  },
  {
   "cell_type": "code",
   "execution_count": 156,
   "metadata": {},
   "outputs": [],
   "source": [
    "from sklearn.tree import export_graphviz\n",
    "export_graphviz(decision_tree,out_file=\"C:/Users/olive/Desktop/Data/decisiontree.dot\")"
   ]
  },
  {
   "cell_type": "markdown",
   "metadata": {},
   "source": [
    "# Fitting Random Forest Classifier"
   ]
  },
  {
   "cell_type": "code",
   "execution_count": 157,
   "metadata": {},
   "outputs": [],
   "source": [
    "from sklearn.ensemble import RandomForestClassifier\n",
    "forest = RandomForestClassifier(max_depth=7, min_samples_split=10, n_estimators=600, random_state=0,criterion = 'gini')\n",
    "forest_ = forest.fit(X_train,y_train)\n",
    "forest_target_prediction = forest_.predict(X_test)"
   ]
  },
  {
   "cell_type": "code",
   "execution_count": 158,
   "metadata": {},
   "outputs": [
    {
     "name": "stdout",
     "output_type": "stream",
     "text": [
      "Random forest score:  0.8212290502793296\n"
     ]
    }
   ],
   "source": [
    "print(\"Random forest score: \",accuracy_score(y_test,forest_target_prediction))\n",
    "a2 = accuracy_score(y_test,forest_target_prediction)"
   ]
  },
  {
   "cell_type": "code",
   "execution_count": 159,
   "metadata": {},
   "outputs": [
    {
     "name": "stdout",
     "output_type": "stream",
     "text": [
      "MSE    : 0.1787709497206704\n",
      "R2     : 0.25975704316360804\n"
     ]
    }
   ],
   "source": [
    "from sklearn.metrics import mean_squared_error, r2_score\n",
    "print (\"MSE    :\",mean_squared_error(y_test,forest_target_prediction))\n",
    "print (\"R2     :\",r2_score(y_test,forest_target_prediction))\n",
    "b2 = mean_squared_error(y_test,forest_target_prediction)\n",
    "c2 = r2_score(y_test,forest_target_prediction)"
   ]
  },
  {
   "cell_type": "code",
   "execution_count": 160,
   "metadata": {},
   "outputs": [
    {
     "name": "stdout",
     "output_type": "stream",
     "text": [
      "The confusion matrix in case of Random Forest:\n",
      "[[102   4]\n",
      " [ 28  45]]\n"
     ]
    }
   ],
   "source": [
    "cm_dt2 = confusion_matrix(y_test, forest_target_prediction)\n",
    "print(\"The confusion matrix in case of Random Forest:\")\n",
    "print(cm_dt2)"
   ]
  },
  {
   "cell_type": "code",
   "execution_count": 161,
   "metadata": {},
   "outputs": [
    {
     "name": "stdout",
     "output_type": "stream",
     "text": [
      "Generalized tree score:  0.8417508417508418\n"
     ]
    }
   ],
   "source": [
    "generalized_tree_ = generalized_tree.fit(X,y)\n",
    "print(\"Generalized tree score: \", generalized_tree_.score(X,y))"
   ]
  },
  {
   "cell_type": "markdown",
   "metadata": {},
   "source": [
    "# Fitting Linear Support Vector Classifier"
   ]
  },
  {
   "cell_type": "code",
   "execution_count": 162,
   "metadata": {},
   "outputs": [],
   "source": [
    "from sklearn.svm import LinearSVC\n",
    "linear_svc = LinearSVC(penalty='l2',random_state=42,max_iter=5000)\n",
    "linear_svc_ =linear_svc.fit(X_train, y_train)\n",
    "linear_svc_target_prediction = linear_svc_.predict(X_test)"
   ]
  },
  {
   "cell_type": "code",
   "execution_count": 163,
   "metadata": {},
   "outputs": [
    {
     "name": "stdout",
     "output_type": "stream",
     "text": [
      "Linear SVC score:  0.776536312849162\n"
     ]
    }
   ],
   "source": [
    "print(\"Linear SVC score: \",accuracy_score(y_test,linear_svc_target_prediction))\n",
    "a4 = accuracy_score(y_test,linear_svc_target_prediction)"
   ]
  },
  {
   "cell_type": "code",
   "execution_count": 164,
   "metadata": {},
   "outputs": [
    {
     "name": "stdout",
     "output_type": "stream",
     "text": [
      "MSE    : 0.22346368715083798\n",
      "R2     : 0.07469630395450999\n"
     ]
    }
   ],
   "source": [
    "from sklearn.metrics import mean_squared_error, r2_score\n",
    "print (\"MSE    :\",mean_squared_error(y_test,linear_svc_target_prediction))\n",
    "print (\"R2     :\",r2_score(y_test,linear_svc_target_prediction))\n",
    "b4 = mean_squared_error(y_test,linear_svc_target_prediction)\n",
    "c4 = r2_score(y_test,linear_svc_target_prediction)"
   ]
  },
  {
   "cell_type": "code",
   "execution_count": 165,
   "metadata": {},
   "outputs": [
    {
     "name": "stdout",
     "output_type": "stream",
     "text": [
      "The confusion matrix in case of Linear SVC:\n",
      "[[90 16]\n",
      " [24 49]]\n"
     ]
    }
   ],
   "source": [
    "cm_dt4 = confusion_matrix(y_test, linear_svc_target_prediction)\n",
    "print(\"The confusion matrix in case of Linear SVC:\")\n",
    "print(cm_dt4)"
   ]
  },
  {
   "cell_type": "markdown",
   "metadata": {},
   "source": [
    "# Fitting Perceptron Classifier"
   ]
  },
  {
   "cell_type": "code",
   "execution_count": 166,
   "metadata": {},
   "outputs": [
    {
     "name": "stderr",
     "output_type": "stream",
     "text": [
      "C:\\Users\\olive\\anaconda3\\lib\\site-packages\\sklearn\\linear_model\\_stochastic_gradient.py:557: ConvergenceWarning: Maximum number of iteration reached before convergence. Consider increasing max_iter to improve the fit.\n",
      "  ConvergenceWarning)\n"
     ]
    }
   ],
   "source": [
    "from sklearn.linear_model import Perceptron\n",
    "perceptron = Perceptron(n_iter_no_change=5000,random_state=1)\n",
    "perc_ = perceptron.fit(X_train, y_train)\n",
    "perceptron_target_prediction = perc_.predict(X_test)"
   ]
  },
  {
   "cell_type": "code",
   "execution_count": 167,
   "metadata": {},
   "outputs": [
    {
     "name": "stdout",
     "output_type": "stream",
     "text": [
      "Perceptron score:  0.7932960893854749\n"
     ]
    }
   ],
   "source": [
    "print(\"Perceptron score: \",accuracy_score(y_test,perceptron_target_prediction))\n",
    "a5 = accuracy_score(y_test,perceptron_target_prediction)"
   ]
  },
  {
   "cell_type": "code",
   "execution_count": 168,
   "metadata": {},
   "outputs": [
    {
     "name": "stdout",
     "output_type": "stream",
     "text": [
      "MSE    : 0.20670391061452514\n",
      "R2     : 0.14409408115792177\n"
     ]
    }
   ],
   "source": [
    "from sklearn.metrics import mean_squared_error, r2_score\n",
    "print (\"MSE    :\",mean_squared_error(y_test,perceptron_target_prediction))\n",
    "print (\"R2     :\",r2_score(y_test,perceptron_target_prediction))\n",
    "b5 = mean_squared_error(y_test,perceptron_target_prediction)\n",
    "c5 = r2_score(y_test,perceptron_target_prediction)"
   ]
  },
  {
   "cell_type": "code",
   "execution_count": 169,
   "metadata": {},
   "outputs": [
    {
     "name": "stdout",
     "output_type": "stream",
     "text": [
      "The confusion matrix in case of Perceptron:\n",
      "[[84 22]\n",
      " [15 58]]\n"
     ]
    }
   ],
   "source": [
    "cm_dt5 = confusion_matrix(y_test, perceptron_target_prediction)\n",
    "print(\"The confusion matrix in case of Perceptron:\")\n",
    "print(cm_dt5)"
   ]
  },
  {
   "cell_type": "markdown",
   "metadata": {},
   "source": [
    "# Naive Bayes Classifier or Gaussian Classifier"
   ]
  },
  {
   "cell_type": "code",
   "execution_count": 170,
   "metadata": {},
   "outputs": [],
   "source": [
    "from sklearn.naive_bayes import GaussianNB\n",
    "gaussian = GaussianNB()\n",
    "gaussian_ = gaussian.fit(X_train, y_train)\n",
    "gaussian_target_prediction = gaussian_.predict(X_test)"
   ]
  },
  {
   "cell_type": "code",
   "execution_count": 171,
   "metadata": {},
   "outputs": [
    {
     "name": "stdout",
     "output_type": "stream",
     "text": [
      "Gaussian score:  0.7653631284916201\n"
     ]
    }
   ],
   "source": [
    "print(\"Gaussian score: \",accuracy_score(y_test,gaussian_target_prediction))\n",
    "a6 = accuracy_score(y_test,gaussian_target_prediction)"
   ]
  },
  {
   "cell_type": "code",
   "execution_count": 172,
   "metadata": {},
   "outputs": [
    {
     "name": "stdout",
     "output_type": "stream",
     "text": [
      "MSE    : 0.2346368715083799\n",
      "R2     : 0.028431119152235507\n"
     ]
    }
   ],
   "source": [
    "from sklearn.metrics import mean_squared_error, r2_score\n",
    "print (\"MSE    :\",mean_squared_error(y_test,gaussian_target_prediction))\n",
    "print (\"R2     :\",r2_score(y_test,gaussian_target_prediction))\n",
    "b6 = mean_squared_error(y_test,gaussian_target_prediction)\n",
    "c6 = r2_score(y_test,gaussian_target_prediction)"
   ]
  },
  {
   "cell_type": "code",
   "execution_count": 173,
   "metadata": {},
   "outputs": [
    {
     "name": "stdout",
     "output_type": "stream",
     "text": [
      "The confusion matrix in case of Gaussian:\n",
      "[[86 20]\n",
      " [22 51]]\n"
     ]
    }
   ],
   "source": [
    "cm_dt6 = confusion_matrix(y_test, gaussian_target_prediction)\n",
    "print(\"The confusion matrix in case of Gaussian:\")\n",
    "print(cm_dt6)"
   ]
  },
  {
   "cell_type": "markdown",
   "metadata": {},
   "source": [
    "# Support Vector Classifier"
   ]
  },
  {
   "cell_type": "code",
   "execution_count": 174,
   "metadata": {},
   "outputs": [],
   "source": [
    "from sklearn.svm import SVC\n",
    "svc = SVC(C=0.1,kernel='rbf',random_state=0)\n",
    "svc_ = svc.fit(X_train, y_train)\n",
    "SVC_target_prediction = svc_.predict(X_test)"
   ]
  },
  {
   "cell_type": "code",
   "execution_count": 175,
   "metadata": {},
   "outputs": [
    {
     "name": "stdout",
     "output_type": "stream",
     "text": [
      "SVM score:  0.776536312849162\n"
     ]
    }
   ],
   "source": [
    "print(\"SVM score: \",accuracy_score(y_test,SVC_target_prediction))\n",
    "a7 = accuracy_score(y_test,SVC_target_prediction)"
   ]
  },
  {
   "cell_type": "code",
   "execution_count": 176,
   "metadata": {},
   "outputs": [
    {
     "name": "stdout",
     "output_type": "stream",
     "text": [
      "MSE    : 0.22346368715083798\n",
      "R2     : 0.07469630395450999\n"
     ]
    }
   ],
   "source": [
    "from sklearn.metrics import mean_squared_error, r2_score\n",
    "print (\"MSE    :\",mean_squared_error(y_test,SVC_target_prediction))\n",
    "print (\"R2     :\",r2_score(y_test,SVC_target_prediction))\n",
    "b7 = mean_squared_error(y_test,SVC_target_prediction)\n",
    "c7 = r2_score(y_test,SVC_target_prediction)"
   ]
  },
  {
   "cell_type": "code",
   "execution_count": 177,
   "metadata": {},
   "outputs": [
    {
     "name": "stdout",
     "output_type": "stream",
     "text": [
      "The confusion matrix in case of SVM:\n",
      "[[90 16]\n",
      " [24 49]]\n"
     ]
    }
   ],
   "source": [
    "cm_dt7 = confusion_matrix(y_test, SVC_target_prediction)\n",
    "print(\"The confusion matrix in case of SVM:\")\n",
    "print(cm_dt7)"
   ]
  },
  {
   "cell_type": "markdown",
   "metadata": {},
   "source": [
    "# K Nearest Neighbors"
   ]
  },
  {
   "cell_type": "code",
   "execution_count": 178,
   "metadata": {},
   "outputs": [],
   "source": [
    "from sklearn.neighbors import KNeighborsClassifier\n",
    "knn = KNeighborsClassifier(n_neighbors = 3,)\n",
    "knn_ = knn.fit(X_train, y_train)\n",
    "knn_target_prediction = knn_.predict(X_test)"
   ]
  },
  {
   "cell_type": "code",
   "execution_count": 179,
   "metadata": {},
   "outputs": [
    {
     "name": "stdout",
     "output_type": "stream",
     "text": [
      "KNN score:  0.7932960893854749\n"
     ]
    }
   ],
   "source": [
    "print(\"KNN score: \",accuracy_score(y_test,knn_target_prediction))\n",
    "a8 = accuracy_score(y_test,knn_target_prediction)"
   ]
  },
  {
   "cell_type": "code",
   "execution_count": 180,
   "metadata": {},
   "outputs": [
    {
     "name": "stdout",
     "output_type": "stream",
     "text": [
      "MSE    : 0.20670391061452514\n",
      "R2     : 0.14409408115792177\n"
     ]
    }
   ],
   "source": [
    "from sklearn.metrics import mean_squared_error, r2_score\n",
    "print (\"MSE    :\",mean_squared_error(y_test,knn_target_prediction))\n",
    "print (\"R2     :\",r2_score(y_test,knn_target_prediction))\n",
    "b8 = mean_squared_error(y_test,knn_target_prediction)\n",
    "c8 = r2_score(y_test,knn_target_prediction)"
   ]
  },
  {
   "cell_type": "code",
   "execution_count": 181,
   "metadata": {},
   "outputs": [
    {
     "name": "stdout",
     "output_type": "stream",
     "text": [
      "The confusion matrix in case of KNN:\n",
      "[[95 11]\n",
      " [26 47]]\n"
     ]
    }
   ],
   "source": [
    "cm_dt8 = confusion_matrix(y_test, knn_target_prediction)\n",
    "print(\"The confusion matrix in case of KNN:\")\n",
    "print(cm_dt8)"
   ]
  },
  {
   "cell_type": "code",
   "execution_count": 182,
   "metadata": {},
   "outputs": [
    {
     "data": {
      "text/html": [
       "<div>\n",
       "<style scoped>\n",
       "    .dataframe tbody tr th:only-of-type {\n",
       "        vertical-align: middle;\n",
       "    }\n",
       "\n",
       "    .dataframe tbody tr th {\n",
       "        vertical-align: top;\n",
       "    }\n",
       "\n",
       "    .dataframe thead th {\n",
       "        text-align: right;\n",
       "    }\n",
       "</style>\n",
       "<table border=\"1\" class=\"dataframe\">\n",
       "  <thead>\n",
       "    <tr style=\"text-align: right;\">\n",
       "      <th></th>\n",
       "      <th>Model</th>\n",
       "      <th>Score</th>\n",
       "      <th>MSE</th>\n",
       "      <th>R2</th>\n",
       "    </tr>\n",
       "  </thead>\n",
       "  <tbody>\n",
       "    <tr>\n",
       "      <th>3</th>\n",
       "      <td>Random Forest</td>\n",
       "      <td>0.821229</td>\n",
       "      <td>0.178771</td>\n",
       "      <td>0.259757</td>\n",
       "    </tr>\n",
       "    <tr>\n",
       "      <th>7</th>\n",
       "      <td>Decision Tree</td>\n",
       "      <td>0.821229</td>\n",
       "      <td>0.178771</td>\n",
       "      <td>0.259757</td>\n",
       "    </tr>\n",
       "    <tr>\n",
       "      <th>2</th>\n",
       "      <td>Logistic Regression</td>\n",
       "      <td>0.810056</td>\n",
       "      <td>0.189944</td>\n",
       "      <td>0.213492</td>\n",
       "    </tr>\n",
       "    <tr>\n",
       "      <th>1</th>\n",
       "      <td>KNN</td>\n",
       "      <td>0.793296</td>\n",
       "      <td>0.206704</td>\n",
       "      <td>0.144094</td>\n",
       "    </tr>\n",
       "    <tr>\n",
       "      <th>5</th>\n",
       "      <td>Perceptron</td>\n",
       "      <td>0.793296</td>\n",
       "      <td>0.206704</td>\n",
       "      <td>0.144094</td>\n",
       "    </tr>\n",
       "    <tr>\n",
       "      <th>0</th>\n",
       "      <td>Support Vector Machines</td>\n",
       "      <td>0.776536</td>\n",
       "      <td>0.223464</td>\n",
       "      <td>0.074696</td>\n",
       "    </tr>\n",
       "    <tr>\n",
       "      <th>6</th>\n",
       "      <td>Linear SVC</td>\n",
       "      <td>0.776536</td>\n",
       "      <td>0.223464</td>\n",
       "      <td>0.074696</td>\n",
       "    </tr>\n",
       "    <tr>\n",
       "      <th>4</th>\n",
       "      <td>Naive Bayes</td>\n",
       "      <td>0.765363</td>\n",
       "      <td>0.234637</td>\n",
       "      <td>0.028431</td>\n",
       "    </tr>\n",
       "  </tbody>\n",
       "</table>\n",
       "</div>"
      ],
      "text/plain": [
       "                     Model     Score       MSE        R2\n",
       "3            Random Forest  0.821229  0.178771  0.259757\n",
       "7            Decision Tree  0.821229  0.178771  0.259757\n",
       "2      Logistic Regression  0.810056  0.189944  0.213492\n",
       "1                      KNN  0.793296  0.206704  0.144094\n",
       "5               Perceptron  0.793296  0.206704  0.144094\n",
       "0  Support Vector Machines  0.776536  0.223464  0.074696\n",
       "6               Linear SVC  0.776536  0.223464  0.074696\n",
       "4              Naive Bayes  0.765363  0.234637  0.028431"
      ]
     },
     "execution_count": 182,
     "metadata": {},
     "output_type": "execute_result"
    }
   ],
   "source": [
    "models = pd.DataFrame({\n",
    "    'Model': ['Support Vector Machines', 'KNN', 'Logistic Regression', \n",
    "              'Random Forest', 'Naive Bayes', 'Perceptron', \n",
    "              'Linear SVC', 'Decision Tree'],\n",
    "    'Score': [a7, a8, a1, a2,\n",
    "              a6, a5, a4, a3],\n",
    "    'MSE': [b7,b8,b1,b2,b6,\n",
    "            b5,b4,b3],\n",
    "     'R2': [c7,c8,c1,c2,c6,\n",
    "            c5,c4,c3]})\n",
    "models.sort_values(by='Score', ascending=False)"
   ]
  },
  {
   "cell_type": "code",
   "execution_count": null,
   "metadata": {},
   "outputs": [],
   "source": []
  }
 ],
 "metadata": {
  "kernelspec": {
   "display_name": "Python 3",
   "language": "python",
   "name": "python3"
  },
  "language_info": {
   "codemirror_mode": {
    "name": "ipython",
    "version": 3
   },
   "file_extension": ".py",
   "mimetype": "text/x-python",
   "name": "python",
   "nbconvert_exporter": "python",
   "pygments_lexer": "ipython3",
   "version": "3.7.6"
  }
 },
 "nbformat": 4,
 "nbformat_minor": 4
}
